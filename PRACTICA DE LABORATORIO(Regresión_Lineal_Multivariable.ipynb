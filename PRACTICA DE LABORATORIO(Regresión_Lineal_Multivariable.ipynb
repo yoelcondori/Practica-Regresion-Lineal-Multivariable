{
  "nbformat": 4,
  "nbformat_minor": 0,
  "metadata": {
    "colab": {
      "name": "Regresión Lineal Multivariable.ipynb",
      "provenance": []
    },
    "kernelspec": {
      "name": "python3",
      "display_name": "Python 3"
    },
    "language_info": {
      "name": "python"
    }
  },
  "cells": [
    {
      "cell_type": "markdown",
      "source": [
        "\n",
        "# **REGRESIÓN LINEAL MULTIVARIABLE**\n"
      ],
      "metadata": {
        "id": "tzknU52DgS09"
      }
    },
    {
      "cell_type": "markdown",
      "source": [
        "# **Bibliotecas**\n",
        "En este laboratorio, haremos uso de:\n",
        "\n",
        "NumPy, una biblioteca popular para computación científica\n",
        "Matplotlib, una biblioteca popular para trazar datos"
      ],
      "metadata": {
        "id": "WUrhenU4gZPe"
      }
    },
    {
      "cell_type": "code",
      "source": [
        "import copy, math\n",
        "import numpy as np\n",
        "import pandas as pd\n",
        "import matplotlib.pyplot as plt\n",
        "from sklearn.linear_model import LinearRegression\n",
        "np.set_printoptions(precision=6)"
      ],
      "metadata": {
        "id": "1_noMEMlgYwp"
      },
      "execution_count": 1,
      "outputs": []
    },
    {
      "cell_type": "markdown",
      "source": [
        "**Importamos** **los** datos "
      ],
      "metadata": {
        "id": "KBWuhpXPgihU"
      }
    },
    {
      "cell_type": "code",
      "source": [
        "dat = pd.read_excel('cars_dataset.xlsx', )\n",
        "dat.head()"
      ],
      "metadata": {
        "colab": {
          "base_uri": "https://localhost:8080/",
          "height": 206
        },
        "id": "yNQh8H78gf0U",
        "outputId": "521ec7e4-3d34-41ed-da69-6f6b80e23082"
      },
      "execution_count": 2,
      "outputs": [
        {
          "output_type": "execute_result",
          "data": {
            "text/plain": [
              "                           name  year  selling_price  km_driven  fuel  \\\n",
              "0        Maruti Swift Dzire VDI  2014         450000     145500     1   \n",
              "1  Skoda Rapid 1.5 TDI Ambition  2014         370000     120000     1   \n",
              "2      Honda City 2017-2020 EXi  2006         158000     140000     0   \n",
              "3     Hyundai i20 Sportz Diesel  2010         225000     127000     1   \n",
              "4        Maruti Swift VXI BSIII  2007         130000     120000     0   \n",
              "\n",
              "   seller_type  transmission  owner  mileage  engine max_power  seats  \n",
              "0            0             1      2    23.40    1248        74      5  \n",
              "1            0             1      2    21.14    1498    103.52      5  \n",
              "2            0             1      1    17.70    1497        78      5  \n",
              "3            0             1      2    23.00    1396        90      5  \n",
              "4            0             1      2    16.10    1298      88.2      5  "
            ],
            "text/html": [
              "\n",
              "  <div id=\"df-43ad9e9f-a934-47cf-bac8-4d7546fa3e79\">\n",
              "    <div class=\"colab-df-container\">\n",
              "      <div>\n",
              "<style scoped>\n",
              "    .dataframe tbody tr th:only-of-type {\n",
              "        vertical-align: middle;\n",
              "    }\n",
              "\n",
              "    .dataframe tbody tr th {\n",
              "        vertical-align: top;\n",
              "    }\n",
              "\n",
              "    .dataframe thead th {\n",
              "        text-align: right;\n",
              "    }\n",
              "</style>\n",
              "<table border=\"1\" class=\"dataframe\">\n",
              "  <thead>\n",
              "    <tr style=\"text-align: right;\">\n",
              "      <th></th>\n",
              "      <th>name</th>\n",
              "      <th>year</th>\n",
              "      <th>selling_price</th>\n",
              "      <th>km_driven</th>\n",
              "      <th>fuel</th>\n",
              "      <th>seller_type</th>\n",
              "      <th>transmission</th>\n",
              "      <th>owner</th>\n",
              "      <th>mileage</th>\n",
              "      <th>engine</th>\n",
              "      <th>max_power</th>\n",
              "      <th>seats</th>\n",
              "    </tr>\n",
              "  </thead>\n",
              "  <tbody>\n",
              "    <tr>\n",
              "      <th>0</th>\n",
              "      <td>Maruti Swift Dzire VDI</td>\n",
              "      <td>2014</td>\n",
              "      <td>450000</td>\n",
              "      <td>145500</td>\n",
              "      <td>1</td>\n",
              "      <td>0</td>\n",
              "      <td>1</td>\n",
              "      <td>2</td>\n",
              "      <td>23.40</td>\n",
              "      <td>1248</td>\n",
              "      <td>74</td>\n",
              "      <td>5</td>\n",
              "    </tr>\n",
              "    <tr>\n",
              "      <th>1</th>\n",
              "      <td>Skoda Rapid 1.5 TDI Ambition</td>\n",
              "      <td>2014</td>\n",
              "      <td>370000</td>\n",
              "      <td>120000</td>\n",
              "      <td>1</td>\n",
              "      <td>0</td>\n",
              "      <td>1</td>\n",
              "      <td>2</td>\n",
              "      <td>21.14</td>\n",
              "      <td>1498</td>\n",
              "      <td>103.52</td>\n",
              "      <td>5</td>\n",
              "    </tr>\n",
              "    <tr>\n",
              "      <th>2</th>\n",
              "      <td>Honda City 2017-2020 EXi</td>\n",
              "      <td>2006</td>\n",
              "      <td>158000</td>\n",
              "      <td>140000</td>\n",
              "      <td>0</td>\n",
              "      <td>0</td>\n",
              "      <td>1</td>\n",
              "      <td>1</td>\n",
              "      <td>17.70</td>\n",
              "      <td>1497</td>\n",
              "      <td>78</td>\n",
              "      <td>5</td>\n",
              "    </tr>\n",
              "    <tr>\n",
              "      <th>3</th>\n",
              "      <td>Hyundai i20 Sportz Diesel</td>\n",
              "      <td>2010</td>\n",
              "      <td>225000</td>\n",
              "      <td>127000</td>\n",
              "      <td>1</td>\n",
              "      <td>0</td>\n",
              "      <td>1</td>\n",
              "      <td>2</td>\n",
              "      <td>23.00</td>\n",
              "      <td>1396</td>\n",
              "      <td>90</td>\n",
              "      <td>5</td>\n",
              "    </tr>\n",
              "    <tr>\n",
              "      <th>4</th>\n",
              "      <td>Maruti Swift VXI BSIII</td>\n",
              "      <td>2007</td>\n",
              "      <td>130000</td>\n",
              "      <td>120000</td>\n",
              "      <td>0</td>\n",
              "      <td>0</td>\n",
              "      <td>1</td>\n",
              "      <td>2</td>\n",
              "      <td>16.10</td>\n",
              "      <td>1298</td>\n",
              "      <td>88.2</td>\n",
              "      <td>5</td>\n",
              "    </tr>\n",
              "  </tbody>\n",
              "</table>\n",
              "</div>\n",
              "      <button class=\"colab-df-convert\" onclick=\"convertToInteractive('df-43ad9e9f-a934-47cf-bac8-4d7546fa3e79')\"\n",
              "              title=\"Convert this dataframe to an interactive table.\"\n",
              "              style=\"display:none;\">\n",
              "        \n",
              "  <svg xmlns=\"http://www.w3.org/2000/svg\" height=\"24px\"viewBox=\"0 0 24 24\"\n",
              "       width=\"24px\">\n",
              "    <path d=\"M0 0h24v24H0V0z\" fill=\"none\"/>\n",
              "    <path d=\"M18.56 5.44l.94 2.06.94-2.06 2.06-.94-2.06-.94-.94-2.06-.94 2.06-2.06.94zm-11 1L8.5 8.5l.94-2.06 2.06-.94-2.06-.94L8.5 2.5l-.94 2.06-2.06.94zm10 10l.94 2.06.94-2.06 2.06-.94-2.06-.94-.94-2.06-.94 2.06-2.06.94z\"/><path d=\"M17.41 7.96l-1.37-1.37c-.4-.4-.92-.59-1.43-.59-.52 0-1.04.2-1.43.59L10.3 9.45l-7.72 7.72c-.78.78-.78 2.05 0 2.83L4 21.41c.39.39.9.59 1.41.59.51 0 1.02-.2 1.41-.59l7.78-7.78 2.81-2.81c.8-.78.8-2.07 0-2.86zM5.41 20L4 18.59l7.72-7.72 1.47 1.35L5.41 20z\"/>\n",
              "  </svg>\n",
              "      </button>\n",
              "      \n",
              "  <style>\n",
              "    .colab-df-container {\n",
              "      display:flex;\n",
              "      flex-wrap:wrap;\n",
              "      gap: 12px;\n",
              "    }\n",
              "\n",
              "    .colab-df-convert {\n",
              "      background-color: #E8F0FE;\n",
              "      border: none;\n",
              "      border-radius: 50%;\n",
              "      cursor: pointer;\n",
              "      display: none;\n",
              "      fill: #1967D2;\n",
              "      height: 32px;\n",
              "      padding: 0 0 0 0;\n",
              "      width: 32px;\n",
              "    }\n",
              "\n",
              "    .colab-df-convert:hover {\n",
              "      background-color: #E2EBFA;\n",
              "      box-shadow: 0px 1px 2px rgba(60, 64, 67, 0.3), 0px 1px 3px 1px rgba(60, 64, 67, 0.15);\n",
              "      fill: #174EA6;\n",
              "    }\n",
              "\n",
              "    [theme=dark] .colab-df-convert {\n",
              "      background-color: #3B4455;\n",
              "      fill: #D2E3FC;\n",
              "    }\n",
              "\n",
              "    [theme=dark] .colab-df-convert:hover {\n",
              "      background-color: #434B5C;\n",
              "      box-shadow: 0px 1px 3px 1px rgba(0, 0, 0, 0.15);\n",
              "      filter: drop-shadow(0px 1px 2px rgba(0, 0, 0, 0.3));\n",
              "      fill: #FFFFFF;\n",
              "    }\n",
              "  </style>\n",
              "\n",
              "      <script>\n",
              "        const buttonEl =\n",
              "          document.querySelector('#df-43ad9e9f-a934-47cf-bac8-4d7546fa3e79 button.colab-df-convert');\n",
              "        buttonEl.style.display =\n",
              "          google.colab.kernel.accessAllowed ? 'block' : 'none';\n",
              "\n",
              "        async function convertToInteractive(key) {\n",
              "          const element = document.querySelector('#df-43ad9e9f-a934-47cf-bac8-4d7546fa3e79');\n",
              "          const dataTable =\n",
              "            await google.colab.kernel.invokeFunction('convertToInteractive',\n",
              "                                                     [key], {});\n",
              "          if (!dataTable) return;\n",
              "\n",
              "          const docLinkHtml = 'Like what you see? Visit the ' +\n",
              "            '<a target=\"_blank\" href=https://colab.research.google.com/notebooks/data_table.ipynb>data table notebook</a>'\n",
              "            + ' to learn more about interactive tables.';\n",
              "          element.innerHTML = '';\n",
              "          dataTable['output_type'] = 'display_data';\n",
              "          await google.colab.output.renderOutput(dataTable, element);\n",
              "          const docLink = document.createElement('div');\n",
              "          docLink.innerHTML = docLinkHtml;\n",
              "          element.appendChild(docLink);\n",
              "        }\n",
              "      </script>\n",
              "    </div>\n",
              "  </div>\n",
              "  "
            ]
          },
          "metadata": {},
          "execution_count": 2
        }
      ]
    },
    {
      "cell_type": "code",
      "source": [
        "d_set = dat.drop(['name', 'max_power'], axis = 1)\n",
        "d_set.describe()"
      ],
      "metadata": {
        "colab": {
          "base_uri": "https://localhost:8080/",
          "height": 300
        },
        "id": "4hIZxO39n2q1",
        "outputId": "211bcc3d-7ad7-4ceb-9245-edec4ec8f794"
      },
      "execution_count": 3,
      "outputs": [
        {
          "output_type": "execute_result",
          "data": {
            "text/plain": [
              "              year  selling_price     km_driven         fuel  seller_type  \\\n",
              "count  8128.000000   8.128000e+03  8.128000e+03  8128.000000  8128.000000   \n",
              "mean   2013.804011   6.382718e+05  6.981951e+04     0.571973     0.196604   \n",
              "std       4.044249   8.062534e+05  5.655055e+04     0.544319     0.464810   \n",
              "min    1983.000000   2.999900e+04  1.000000e+00     0.000000     0.000000   \n",
              "25%    2011.000000   2.549990e+05  3.500000e+04     0.000000     0.000000   \n",
              "50%    2015.000000   4.500000e+05  6.000000e+04     1.000000     0.000000   \n",
              "75%    2017.000000   6.750000e+05  9.800000e+04     1.000000     0.000000   \n",
              "max    2020.000000   1.000000e+07  2.360457e+06     3.000000     2.000000   \n",
              "\n",
              "       transmission        owner      mileage       engine        seats  \n",
              "count   8128.000000  8128.000000  8128.000000  8128.000000  8128.000000  \n",
              "mean       0.870817     1.889518    19.418816  1458.635212     5.405389  \n",
              "std        0.335423     0.377278     3.981875   497.017508     0.948874  \n",
              "min        0.000000     0.000000     0.000000   624.000000     2.000000  \n",
              "25%        1.000000     2.000000    16.800000  1197.000000     5.000000  \n",
              "50%        1.000000     2.000000    19.420000  1248.000000     5.000000  \n",
              "75%        1.000000     2.000000    22.277500  1582.000000     5.000000  \n",
              "max        1.000000     3.000000    42.000000  3604.000000    14.000000  "
            ],
            "text/html": [
              "\n",
              "  <div id=\"df-fc00bcac-2104-47a1-bbbd-03f804ca6d66\">\n",
              "    <div class=\"colab-df-container\">\n",
              "      <div>\n",
              "<style scoped>\n",
              "    .dataframe tbody tr th:only-of-type {\n",
              "        vertical-align: middle;\n",
              "    }\n",
              "\n",
              "    .dataframe tbody tr th {\n",
              "        vertical-align: top;\n",
              "    }\n",
              "\n",
              "    .dataframe thead th {\n",
              "        text-align: right;\n",
              "    }\n",
              "</style>\n",
              "<table border=\"1\" class=\"dataframe\">\n",
              "  <thead>\n",
              "    <tr style=\"text-align: right;\">\n",
              "      <th></th>\n",
              "      <th>year</th>\n",
              "      <th>selling_price</th>\n",
              "      <th>km_driven</th>\n",
              "      <th>fuel</th>\n",
              "      <th>seller_type</th>\n",
              "      <th>transmission</th>\n",
              "      <th>owner</th>\n",
              "      <th>mileage</th>\n",
              "      <th>engine</th>\n",
              "      <th>seats</th>\n",
              "    </tr>\n",
              "  </thead>\n",
              "  <tbody>\n",
              "    <tr>\n",
              "      <th>count</th>\n",
              "      <td>8128.000000</td>\n",
              "      <td>8.128000e+03</td>\n",
              "      <td>8.128000e+03</td>\n",
              "      <td>8128.000000</td>\n",
              "      <td>8128.000000</td>\n",
              "      <td>8128.000000</td>\n",
              "      <td>8128.000000</td>\n",
              "      <td>8128.000000</td>\n",
              "      <td>8128.000000</td>\n",
              "      <td>8128.000000</td>\n",
              "    </tr>\n",
              "    <tr>\n",
              "      <th>mean</th>\n",
              "      <td>2013.804011</td>\n",
              "      <td>6.382718e+05</td>\n",
              "      <td>6.981951e+04</td>\n",
              "      <td>0.571973</td>\n",
              "      <td>0.196604</td>\n",
              "      <td>0.870817</td>\n",
              "      <td>1.889518</td>\n",
              "      <td>19.418816</td>\n",
              "      <td>1458.635212</td>\n",
              "      <td>5.405389</td>\n",
              "    </tr>\n",
              "    <tr>\n",
              "      <th>std</th>\n",
              "      <td>4.044249</td>\n",
              "      <td>8.062534e+05</td>\n",
              "      <td>5.655055e+04</td>\n",
              "      <td>0.544319</td>\n",
              "      <td>0.464810</td>\n",
              "      <td>0.335423</td>\n",
              "      <td>0.377278</td>\n",
              "      <td>3.981875</td>\n",
              "      <td>497.017508</td>\n",
              "      <td>0.948874</td>\n",
              "    </tr>\n",
              "    <tr>\n",
              "      <th>min</th>\n",
              "      <td>1983.000000</td>\n",
              "      <td>2.999900e+04</td>\n",
              "      <td>1.000000e+00</td>\n",
              "      <td>0.000000</td>\n",
              "      <td>0.000000</td>\n",
              "      <td>0.000000</td>\n",
              "      <td>0.000000</td>\n",
              "      <td>0.000000</td>\n",
              "      <td>624.000000</td>\n",
              "      <td>2.000000</td>\n",
              "    </tr>\n",
              "    <tr>\n",
              "      <th>25%</th>\n",
              "      <td>2011.000000</td>\n",
              "      <td>2.549990e+05</td>\n",
              "      <td>3.500000e+04</td>\n",
              "      <td>0.000000</td>\n",
              "      <td>0.000000</td>\n",
              "      <td>1.000000</td>\n",
              "      <td>2.000000</td>\n",
              "      <td>16.800000</td>\n",
              "      <td>1197.000000</td>\n",
              "      <td>5.000000</td>\n",
              "    </tr>\n",
              "    <tr>\n",
              "      <th>50%</th>\n",
              "      <td>2015.000000</td>\n",
              "      <td>4.500000e+05</td>\n",
              "      <td>6.000000e+04</td>\n",
              "      <td>1.000000</td>\n",
              "      <td>0.000000</td>\n",
              "      <td>1.000000</td>\n",
              "      <td>2.000000</td>\n",
              "      <td>19.420000</td>\n",
              "      <td>1248.000000</td>\n",
              "      <td>5.000000</td>\n",
              "    </tr>\n",
              "    <tr>\n",
              "      <th>75%</th>\n",
              "      <td>2017.000000</td>\n",
              "      <td>6.750000e+05</td>\n",
              "      <td>9.800000e+04</td>\n",
              "      <td>1.000000</td>\n",
              "      <td>0.000000</td>\n",
              "      <td>1.000000</td>\n",
              "      <td>2.000000</td>\n",
              "      <td>22.277500</td>\n",
              "      <td>1582.000000</td>\n",
              "      <td>5.000000</td>\n",
              "    </tr>\n",
              "    <tr>\n",
              "      <th>max</th>\n",
              "      <td>2020.000000</td>\n",
              "      <td>1.000000e+07</td>\n",
              "      <td>2.360457e+06</td>\n",
              "      <td>3.000000</td>\n",
              "      <td>2.000000</td>\n",
              "      <td>1.000000</td>\n",
              "      <td>3.000000</td>\n",
              "      <td>42.000000</td>\n",
              "      <td>3604.000000</td>\n",
              "      <td>14.000000</td>\n",
              "    </tr>\n",
              "  </tbody>\n",
              "</table>\n",
              "</div>\n",
              "      <button class=\"colab-df-convert\" onclick=\"convertToInteractive('df-fc00bcac-2104-47a1-bbbd-03f804ca6d66')\"\n",
              "              title=\"Convert this dataframe to an interactive table.\"\n",
              "              style=\"display:none;\">\n",
              "        \n",
              "  <svg xmlns=\"http://www.w3.org/2000/svg\" height=\"24px\"viewBox=\"0 0 24 24\"\n",
              "       width=\"24px\">\n",
              "    <path d=\"M0 0h24v24H0V0z\" fill=\"none\"/>\n",
              "    <path d=\"M18.56 5.44l.94 2.06.94-2.06 2.06-.94-2.06-.94-.94-2.06-.94 2.06-2.06.94zm-11 1L8.5 8.5l.94-2.06 2.06-.94-2.06-.94L8.5 2.5l-.94 2.06-2.06.94zm10 10l.94 2.06.94-2.06 2.06-.94-2.06-.94-.94-2.06-.94 2.06-2.06.94z\"/><path d=\"M17.41 7.96l-1.37-1.37c-.4-.4-.92-.59-1.43-.59-.52 0-1.04.2-1.43.59L10.3 9.45l-7.72 7.72c-.78.78-.78 2.05 0 2.83L4 21.41c.39.39.9.59 1.41.59.51 0 1.02-.2 1.41-.59l7.78-7.78 2.81-2.81c.8-.78.8-2.07 0-2.86zM5.41 20L4 18.59l7.72-7.72 1.47 1.35L5.41 20z\"/>\n",
              "  </svg>\n",
              "      </button>\n",
              "      \n",
              "  <style>\n",
              "    .colab-df-container {\n",
              "      display:flex;\n",
              "      flex-wrap:wrap;\n",
              "      gap: 12px;\n",
              "    }\n",
              "\n",
              "    .colab-df-convert {\n",
              "      background-color: #E8F0FE;\n",
              "      border: none;\n",
              "      border-radius: 50%;\n",
              "      cursor: pointer;\n",
              "      display: none;\n",
              "      fill: #1967D2;\n",
              "      height: 32px;\n",
              "      padding: 0 0 0 0;\n",
              "      width: 32px;\n",
              "    }\n",
              "\n",
              "    .colab-df-convert:hover {\n",
              "      background-color: #E2EBFA;\n",
              "      box-shadow: 0px 1px 2px rgba(60, 64, 67, 0.3), 0px 1px 3px 1px rgba(60, 64, 67, 0.15);\n",
              "      fill: #174EA6;\n",
              "    }\n",
              "\n",
              "    [theme=dark] .colab-df-convert {\n",
              "      background-color: #3B4455;\n",
              "      fill: #D2E3FC;\n",
              "    }\n",
              "\n",
              "    [theme=dark] .colab-df-convert:hover {\n",
              "      background-color: #434B5C;\n",
              "      box-shadow: 0px 1px 3px 1px rgba(0, 0, 0, 0.15);\n",
              "      filter: drop-shadow(0px 1px 2px rgba(0, 0, 0, 0.3));\n",
              "      fill: #FFFFFF;\n",
              "    }\n",
              "  </style>\n",
              "\n",
              "      <script>\n",
              "        const buttonEl =\n",
              "          document.querySelector('#df-fc00bcac-2104-47a1-bbbd-03f804ca6d66 button.colab-df-convert');\n",
              "        buttonEl.style.display =\n",
              "          google.colab.kernel.accessAllowed ? 'block' : 'none';\n",
              "\n",
              "        async function convertToInteractive(key) {\n",
              "          const element = document.querySelector('#df-fc00bcac-2104-47a1-bbbd-03f804ca6d66');\n",
              "          const dataTable =\n",
              "            await google.colab.kernel.invokeFunction('convertToInteractive',\n",
              "                                                     [key], {});\n",
              "          if (!dataTable) return;\n",
              "\n",
              "          const docLinkHtml = 'Like what you see? Visit the ' +\n",
              "            '<a target=\"_blank\" href=https://colab.research.google.com/notebooks/data_table.ipynb>data table notebook</a>'\n",
              "            + ' to learn more about interactive tables.';\n",
              "          element.innerHTML = '';\n",
              "          dataTable['output_type'] = 'display_data';\n",
              "          await google.colab.output.renderOutput(dataTable, element);\n",
              "          const docLink = document.createElement('div');\n",
              "          docLink.innerHTML = docLinkHtml;\n",
              "          element.appendChild(docLink);\n",
              "        }\n",
              "      </script>\n",
              "    </div>\n",
              "  </div>\n",
              "  "
            ]
          },
          "metadata": {},
          "execution_count": 3
        }
      ]
    },
    {
      "cell_type": "markdown",
      "source": [
        "**Nomalizar los datos**"
      ],
      "metadata": {
        "id": "Sa9ba2cKoVLX"
      }
    },
    {
      "cell_type": "code",
      "source": [
        "d_norm = (d_set - d_set.min())/(d_set.max() - d_set.min())\n",
        "d_norm"
      ],
      "metadata": {
        "colab": {
          "base_uri": "https://localhost:8080/",
          "height": 424
        },
        "id": "9sdqQmmJoEel",
        "outputId": "e70f3311-6a80-4060-d90a-f21da72e046e"
      },
      "execution_count": 4,
      "outputs": [
        {
          "output_type": "execute_result",
          "data": {
            "text/plain": [
              "          year  selling_price  km_driven      fuel  seller_type  transmission  \\\n",
              "0     0.837838       0.042126   0.061640  0.333333          0.0           1.0   \n",
              "1     0.837838       0.034102   0.050837  0.333333          0.0           1.0   \n",
              "2     0.621622       0.012839   0.059310  0.000000          0.0           1.0   \n",
              "3     0.729730       0.019559   0.053803  0.333333          0.0           1.0   \n",
              "4     0.648649       0.010030   0.050837  0.000000          0.0           1.0   \n",
              "...        ...            ...        ...       ...          ...           ...   \n",
              "8123  0.810811       0.029087   0.046601  0.000000          0.0           1.0   \n",
              "8124  0.648649       0.010532   0.050414  0.333333          0.0           1.0   \n",
              "8125  0.702703       0.035306   0.050837  0.333333          0.0           1.0   \n",
              "8126  0.810811       0.026078   0.010591  0.333333          0.0           1.0   \n",
              "8127  0.810811       0.026078   0.010591  0.333333          0.0           1.0   \n",
              "\n",
              "         owner   mileage    engine  seats  \n",
              "0     0.666667  0.557143  0.209396   0.25  \n",
              "1     0.666667  0.503333  0.293289   0.25  \n",
              "2     0.333333  0.421429  0.292953   0.25  \n",
              "3     0.666667  0.547619  0.259060   0.25  \n",
              "4     0.666667  0.383333  0.226174   0.25  \n",
              "...        ...       ...       ...    ...  \n",
              "8123  0.666667  0.440476  0.192282   0.25  \n",
              "8124  0.000000  0.400000  0.291611   0.25  \n",
              "8125  0.666667  0.459524  0.209396   0.25  \n",
              "8126  0.666667  0.561190  0.259060   0.25  \n",
              "8127  0.666667  0.561190  0.259060   0.25  \n",
              "\n",
              "[8128 rows x 10 columns]"
            ],
            "text/html": [
              "\n",
              "  <div id=\"df-d594aceb-56df-4b10-90db-2e9de1b86231\">\n",
              "    <div class=\"colab-df-container\">\n",
              "      <div>\n",
              "<style scoped>\n",
              "    .dataframe tbody tr th:only-of-type {\n",
              "        vertical-align: middle;\n",
              "    }\n",
              "\n",
              "    .dataframe tbody tr th {\n",
              "        vertical-align: top;\n",
              "    }\n",
              "\n",
              "    .dataframe thead th {\n",
              "        text-align: right;\n",
              "    }\n",
              "</style>\n",
              "<table border=\"1\" class=\"dataframe\">\n",
              "  <thead>\n",
              "    <tr style=\"text-align: right;\">\n",
              "      <th></th>\n",
              "      <th>year</th>\n",
              "      <th>selling_price</th>\n",
              "      <th>km_driven</th>\n",
              "      <th>fuel</th>\n",
              "      <th>seller_type</th>\n",
              "      <th>transmission</th>\n",
              "      <th>owner</th>\n",
              "      <th>mileage</th>\n",
              "      <th>engine</th>\n",
              "      <th>seats</th>\n",
              "    </tr>\n",
              "  </thead>\n",
              "  <tbody>\n",
              "    <tr>\n",
              "      <th>0</th>\n",
              "      <td>0.837838</td>\n",
              "      <td>0.042126</td>\n",
              "      <td>0.061640</td>\n",
              "      <td>0.333333</td>\n",
              "      <td>0.0</td>\n",
              "      <td>1.0</td>\n",
              "      <td>0.666667</td>\n",
              "      <td>0.557143</td>\n",
              "      <td>0.209396</td>\n",
              "      <td>0.25</td>\n",
              "    </tr>\n",
              "    <tr>\n",
              "      <th>1</th>\n",
              "      <td>0.837838</td>\n",
              "      <td>0.034102</td>\n",
              "      <td>0.050837</td>\n",
              "      <td>0.333333</td>\n",
              "      <td>0.0</td>\n",
              "      <td>1.0</td>\n",
              "      <td>0.666667</td>\n",
              "      <td>0.503333</td>\n",
              "      <td>0.293289</td>\n",
              "      <td>0.25</td>\n",
              "    </tr>\n",
              "    <tr>\n",
              "      <th>2</th>\n",
              "      <td>0.621622</td>\n",
              "      <td>0.012839</td>\n",
              "      <td>0.059310</td>\n",
              "      <td>0.000000</td>\n",
              "      <td>0.0</td>\n",
              "      <td>1.0</td>\n",
              "      <td>0.333333</td>\n",
              "      <td>0.421429</td>\n",
              "      <td>0.292953</td>\n",
              "      <td>0.25</td>\n",
              "    </tr>\n",
              "    <tr>\n",
              "      <th>3</th>\n",
              "      <td>0.729730</td>\n",
              "      <td>0.019559</td>\n",
              "      <td>0.053803</td>\n",
              "      <td>0.333333</td>\n",
              "      <td>0.0</td>\n",
              "      <td>1.0</td>\n",
              "      <td>0.666667</td>\n",
              "      <td>0.547619</td>\n",
              "      <td>0.259060</td>\n",
              "      <td>0.25</td>\n",
              "    </tr>\n",
              "    <tr>\n",
              "      <th>4</th>\n",
              "      <td>0.648649</td>\n",
              "      <td>0.010030</td>\n",
              "      <td>0.050837</td>\n",
              "      <td>0.000000</td>\n",
              "      <td>0.0</td>\n",
              "      <td>1.0</td>\n",
              "      <td>0.666667</td>\n",
              "      <td>0.383333</td>\n",
              "      <td>0.226174</td>\n",
              "      <td>0.25</td>\n",
              "    </tr>\n",
              "    <tr>\n",
              "      <th>...</th>\n",
              "      <td>...</td>\n",
              "      <td>...</td>\n",
              "      <td>...</td>\n",
              "      <td>...</td>\n",
              "      <td>...</td>\n",
              "      <td>...</td>\n",
              "      <td>...</td>\n",
              "      <td>...</td>\n",
              "      <td>...</td>\n",
              "      <td>...</td>\n",
              "    </tr>\n",
              "    <tr>\n",
              "      <th>8123</th>\n",
              "      <td>0.810811</td>\n",
              "      <td>0.029087</td>\n",
              "      <td>0.046601</td>\n",
              "      <td>0.000000</td>\n",
              "      <td>0.0</td>\n",
              "      <td>1.0</td>\n",
              "      <td>0.666667</td>\n",
              "      <td>0.440476</td>\n",
              "      <td>0.192282</td>\n",
              "      <td>0.25</td>\n",
              "    </tr>\n",
              "    <tr>\n",
              "      <th>8124</th>\n",
              "      <td>0.648649</td>\n",
              "      <td>0.010532</td>\n",
              "      <td>0.050414</td>\n",
              "      <td>0.333333</td>\n",
              "      <td>0.0</td>\n",
              "      <td>1.0</td>\n",
              "      <td>0.000000</td>\n",
              "      <td>0.400000</td>\n",
              "      <td>0.291611</td>\n",
              "      <td>0.25</td>\n",
              "    </tr>\n",
              "    <tr>\n",
              "      <th>8125</th>\n",
              "      <td>0.702703</td>\n",
              "      <td>0.035306</td>\n",
              "      <td>0.050837</td>\n",
              "      <td>0.333333</td>\n",
              "      <td>0.0</td>\n",
              "      <td>1.0</td>\n",
              "      <td>0.666667</td>\n",
              "      <td>0.459524</td>\n",
              "      <td>0.209396</td>\n",
              "      <td>0.25</td>\n",
              "    </tr>\n",
              "    <tr>\n",
              "      <th>8126</th>\n",
              "      <td>0.810811</td>\n",
              "      <td>0.026078</td>\n",
              "      <td>0.010591</td>\n",
              "      <td>0.333333</td>\n",
              "      <td>0.0</td>\n",
              "      <td>1.0</td>\n",
              "      <td>0.666667</td>\n",
              "      <td>0.561190</td>\n",
              "      <td>0.259060</td>\n",
              "      <td>0.25</td>\n",
              "    </tr>\n",
              "    <tr>\n",
              "      <th>8127</th>\n",
              "      <td>0.810811</td>\n",
              "      <td>0.026078</td>\n",
              "      <td>0.010591</td>\n",
              "      <td>0.333333</td>\n",
              "      <td>0.0</td>\n",
              "      <td>1.0</td>\n",
              "      <td>0.666667</td>\n",
              "      <td>0.561190</td>\n",
              "      <td>0.259060</td>\n",
              "      <td>0.25</td>\n",
              "    </tr>\n",
              "  </tbody>\n",
              "</table>\n",
              "<p>8128 rows × 10 columns</p>\n",
              "</div>\n",
              "      <button class=\"colab-df-convert\" onclick=\"convertToInteractive('df-d594aceb-56df-4b10-90db-2e9de1b86231')\"\n",
              "              title=\"Convert this dataframe to an interactive table.\"\n",
              "              style=\"display:none;\">\n",
              "        \n",
              "  <svg xmlns=\"http://www.w3.org/2000/svg\" height=\"24px\"viewBox=\"0 0 24 24\"\n",
              "       width=\"24px\">\n",
              "    <path d=\"M0 0h24v24H0V0z\" fill=\"none\"/>\n",
              "    <path d=\"M18.56 5.44l.94 2.06.94-2.06 2.06-.94-2.06-.94-.94-2.06-.94 2.06-2.06.94zm-11 1L8.5 8.5l.94-2.06 2.06-.94-2.06-.94L8.5 2.5l-.94 2.06-2.06.94zm10 10l.94 2.06.94-2.06 2.06-.94-2.06-.94-.94-2.06-.94 2.06-2.06.94z\"/><path d=\"M17.41 7.96l-1.37-1.37c-.4-.4-.92-.59-1.43-.59-.52 0-1.04.2-1.43.59L10.3 9.45l-7.72 7.72c-.78.78-.78 2.05 0 2.83L4 21.41c.39.39.9.59 1.41.59.51 0 1.02-.2 1.41-.59l7.78-7.78 2.81-2.81c.8-.78.8-2.07 0-2.86zM5.41 20L4 18.59l7.72-7.72 1.47 1.35L5.41 20z\"/>\n",
              "  </svg>\n",
              "      </button>\n",
              "      \n",
              "  <style>\n",
              "    .colab-df-container {\n",
              "      display:flex;\n",
              "      flex-wrap:wrap;\n",
              "      gap: 12px;\n",
              "    }\n",
              "\n",
              "    .colab-df-convert {\n",
              "      background-color: #E8F0FE;\n",
              "      border: none;\n",
              "      border-radius: 50%;\n",
              "      cursor: pointer;\n",
              "      display: none;\n",
              "      fill: #1967D2;\n",
              "      height: 32px;\n",
              "      padding: 0 0 0 0;\n",
              "      width: 32px;\n",
              "    }\n",
              "\n",
              "    .colab-df-convert:hover {\n",
              "      background-color: #E2EBFA;\n",
              "      box-shadow: 0px 1px 2px rgba(60, 64, 67, 0.3), 0px 1px 3px 1px rgba(60, 64, 67, 0.15);\n",
              "      fill: #174EA6;\n",
              "    }\n",
              "\n",
              "    [theme=dark] .colab-df-convert {\n",
              "      background-color: #3B4455;\n",
              "      fill: #D2E3FC;\n",
              "    }\n",
              "\n",
              "    [theme=dark] .colab-df-convert:hover {\n",
              "      background-color: #434B5C;\n",
              "      box-shadow: 0px 1px 3px 1px rgba(0, 0, 0, 0.15);\n",
              "      filter: drop-shadow(0px 1px 2px rgba(0, 0, 0, 0.3));\n",
              "      fill: #FFFFFF;\n",
              "    }\n",
              "  </style>\n",
              "\n",
              "      <script>\n",
              "        const buttonEl =\n",
              "          document.querySelector('#df-d594aceb-56df-4b10-90db-2e9de1b86231 button.colab-df-convert');\n",
              "        buttonEl.style.display =\n",
              "          google.colab.kernel.accessAllowed ? 'block' : 'none';\n",
              "\n",
              "        async function convertToInteractive(key) {\n",
              "          const element = document.querySelector('#df-d594aceb-56df-4b10-90db-2e9de1b86231');\n",
              "          const dataTable =\n",
              "            await google.colab.kernel.invokeFunction('convertToInteractive',\n",
              "                                                     [key], {});\n",
              "          if (!dataTable) return;\n",
              "\n",
              "          const docLinkHtml = 'Like what you see? Visit the ' +\n",
              "            '<a target=\"_blank\" href=https://colab.research.google.com/notebooks/data_table.ipynb>data table notebook</a>'\n",
              "            + ' to learn more about interactive tables.';\n",
              "          element.innerHTML = '';\n",
              "          dataTable['output_type'] = 'display_data';\n",
              "          await google.colab.output.renderOutput(dataTable, element);\n",
              "          const docLink = document.createElement('div');\n",
              "          docLink.innerHTML = docLinkHtml;\n",
              "          element.appendChild(docLink);\n",
              "        }\n",
              "      </script>\n",
              "    </div>\n",
              "  </div>\n",
              "  "
            ]
          },
          "metadata": {},
          "execution_count": 4
        }
      ]
    },
    {
      "cell_type": "markdown",
      "source": [
        "**Los datos normalizados vamos a describirlo**"
      ],
      "metadata": {
        "id": "0Zw3nfrXoapI"
      }
    },
    {
      "cell_type": "code",
      "source": [
        "d_norm.describe()"
      ],
      "metadata": {
        "colab": {
          "base_uri": "https://localhost:8080/",
          "height": 300
        },
        "id": "C9a5AuzmoMr_",
        "outputId": "2528c70a-c111-41b7-8c2c-bb707573a6aa"
      },
      "execution_count": 5,
      "outputs": [
        {
          "output_type": "execute_result",
          "data": {
            "text/plain": [
              "              year  selling_price    km_driven         fuel  seller_type  \\\n",
              "count  8128.000000    8128.000000  8128.000000  8128.000000  8128.000000   \n",
              "mean      0.832541       0.061010     0.029578     0.190658     0.098302   \n",
              "std       0.109304       0.080868     0.023957     0.181440     0.232405   \n",
              "min       0.000000       0.000000     0.000000     0.000000     0.000000   \n",
              "25%       0.756757       0.022568     0.014827     0.000000     0.000000   \n",
              "50%       0.864865       0.042126     0.025418     0.333333     0.000000   \n",
              "75%       0.918919       0.064694     0.041517     0.333333     0.000000   \n",
              "max       1.000000       1.000000     1.000000     1.000000     1.000000   \n",
              "\n",
              "       transmission        owner      mileage       engine        seats  \n",
              "count   8128.000000  8128.000000  8128.000000  8128.000000  8128.000000  \n",
              "mean       0.870817     0.629839     0.462353     0.280079     0.283782  \n",
              "std        0.335423     0.125759     0.094807     0.166784     0.079073  \n",
              "min        0.000000     0.000000     0.000000     0.000000     0.000000  \n",
              "25%        1.000000     0.666667     0.400000     0.192282     0.250000  \n",
              "50%        1.000000     0.666667     0.462381     0.209396     0.250000  \n",
              "75%        1.000000     0.666667     0.530417     0.321477     0.250000  \n",
              "max        1.000000     1.000000     1.000000     1.000000     1.000000  "
            ],
            "text/html": [
              "\n",
              "  <div id=\"df-b50fd549-1c9f-437a-b1ab-0c7464c956d4\">\n",
              "    <div class=\"colab-df-container\">\n",
              "      <div>\n",
              "<style scoped>\n",
              "    .dataframe tbody tr th:only-of-type {\n",
              "        vertical-align: middle;\n",
              "    }\n",
              "\n",
              "    .dataframe tbody tr th {\n",
              "        vertical-align: top;\n",
              "    }\n",
              "\n",
              "    .dataframe thead th {\n",
              "        text-align: right;\n",
              "    }\n",
              "</style>\n",
              "<table border=\"1\" class=\"dataframe\">\n",
              "  <thead>\n",
              "    <tr style=\"text-align: right;\">\n",
              "      <th></th>\n",
              "      <th>year</th>\n",
              "      <th>selling_price</th>\n",
              "      <th>km_driven</th>\n",
              "      <th>fuel</th>\n",
              "      <th>seller_type</th>\n",
              "      <th>transmission</th>\n",
              "      <th>owner</th>\n",
              "      <th>mileage</th>\n",
              "      <th>engine</th>\n",
              "      <th>seats</th>\n",
              "    </tr>\n",
              "  </thead>\n",
              "  <tbody>\n",
              "    <tr>\n",
              "      <th>count</th>\n",
              "      <td>8128.000000</td>\n",
              "      <td>8128.000000</td>\n",
              "      <td>8128.000000</td>\n",
              "      <td>8128.000000</td>\n",
              "      <td>8128.000000</td>\n",
              "      <td>8128.000000</td>\n",
              "      <td>8128.000000</td>\n",
              "      <td>8128.000000</td>\n",
              "      <td>8128.000000</td>\n",
              "      <td>8128.000000</td>\n",
              "    </tr>\n",
              "    <tr>\n",
              "      <th>mean</th>\n",
              "      <td>0.832541</td>\n",
              "      <td>0.061010</td>\n",
              "      <td>0.029578</td>\n",
              "      <td>0.190658</td>\n",
              "      <td>0.098302</td>\n",
              "      <td>0.870817</td>\n",
              "      <td>0.629839</td>\n",
              "      <td>0.462353</td>\n",
              "      <td>0.280079</td>\n",
              "      <td>0.283782</td>\n",
              "    </tr>\n",
              "    <tr>\n",
              "      <th>std</th>\n",
              "      <td>0.109304</td>\n",
              "      <td>0.080868</td>\n",
              "      <td>0.023957</td>\n",
              "      <td>0.181440</td>\n",
              "      <td>0.232405</td>\n",
              "      <td>0.335423</td>\n",
              "      <td>0.125759</td>\n",
              "      <td>0.094807</td>\n",
              "      <td>0.166784</td>\n",
              "      <td>0.079073</td>\n",
              "    </tr>\n",
              "    <tr>\n",
              "      <th>min</th>\n",
              "      <td>0.000000</td>\n",
              "      <td>0.000000</td>\n",
              "      <td>0.000000</td>\n",
              "      <td>0.000000</td>\n",
              "      <td>0.000000</td>\n",
              "      <td>0.000000</td>\n",
              "      <td>0.000000</td>\n",
              "      <td>0.000000</td>\n",
              "      <td>0.000000</td>\n",
              "      <td>0.000000</td>\n",
              "    </tr>\n",
              "    <tr>\n",
              "      <th>25%</th>\n",
              "      <td>0.756757</td>\n",
              "      <td>0.022568</td>\n",
              "      <td>0.014827</td>\n",
              "      <td>0.000000</td>\n",
              "      <td>0.000000</td>\n",
              "      <td>1.000000</td>\n",
              "      <td>0.666667</td>\n",
              "      <td>0.400000</td>\n",
              "      <td>0.192282</td>\n",
              "      <td>0.250000</td>\n",
              "    </tr>\n",
              "    <tr>\n",
              "      <th>50%</th>\n",
              "      <td>0.864865</td>\n",
              "      <td>0.042126</td>\n",
              "      <td>0.025418</td>\n",
              "      <td>0.333333</td>\n",
              "      <td>0.000000</td>\n",
              "      <td>1.000000</td>\n",
              "      <td>0.666667</td>\n",
              "      <td>0.462381</td>\n",
              "      <td>0.209396</td>\n",
              "      <td>0.250000</td>\n",
              "    </tr>\n",
              "    <tr>\n",
              "      <th>75%</th>\n",
              "      <td>0.918919</td>\n",
              "      <td>0.064694</td>\n",
              "      <td>0.041517</td>\n",
              "      <td>0.333333</td>\n",
              "      <td>0.000000</td>\n",
              "      <td>1.000000</td>\n",
              "      <td>0.666667</td>\n",
              "      <td>0.530417</td>\n",
              "      <td>0.321477</td>\n",
              "      <td>0.250000</td>\n",
              "    </tr>\n",
              "    <tr>\n",
              "      <th>max</th>\n",
              "      <td>1.000000</td>\n",
              "      <td>1.000000</td>\n",
              "      <td>1.000000</td>\n",
              "      <td>1.000000</td>\n",
              "      <td>1.000000</td>\n",
              "      <td>1.000000</td>\n",
              "      <td>1.000000</td>\n",
              "      <td>1.000000</td>\n",
              "      <td>1.000000</td>\n",
              "      <td>1.000000</td>\n",
              "    </tr>\n",
              "  </tbody>\n",
              "</table>\n",
              "</div>\n",
              "      <button class=\"colab-df-convert\" onclick=\"convertToInteractive('df-b50fd549-1c9f-437a-b1ab-0c7464c956d4')\"\n",
              "              title=\"Convert this dataframe to an interactive table.\"\n",
              "              style=\"display:none;\">\n",
              "        \n",
              "  <svg xmlns=\"http://www.w3.org/2000/svg\" height=\"24px\"viewBox=\"0 0 24 24\"\n",
              "       width=\"24px\">\n",
              "    <path d=\"M0 0h24v24H0V0z\" fill=\"none\"/>\n",
              "    <path d=\"M18.56 5.44l.94 2.06.94-2.06 2.06-.94-2.06-.94-.94-2.06-.94 2.06-2.06.94zm-11 1L8.5 8.5l.94-2.06 2.06-.94-2.06-.94L8.5 2.5l-.94 2.06-2.06.94zm10 10l.94 2.06.94-2.06 2.06-.94-2.06-.94-.94-2.06-.94 2.06-2.06.94z\"/><path d=\"M17.41 7.96l-1.37-1.37c-.4-.4-.92-.59-1.43-.59-.52 0-1.04.2-1.43.59L10.3 9.45l-7.72 7.72c-.78.78-.78 2.05 0 2.83L4 21.41c.39.39.9.59 1.41.59.51 0 1.02-.2 1.41-.59l7.78-7.78 2.81-2.81c.8-.78.8-2.07 0-2.86zM5.41 20L4 18.59l7.72-7.72 1.47 1.35L5.41 20z\"/>\n",
              "  </svg>\n",
              "      </button>\n",
              "      \n",
              "  <style>\n",
              "    .colab-df-container {\n",
              "      display:flex;\n",
              "      flex-wrap:wrap;\n",
              "      gap: 12px;\n",
              "    }\n",
              "\n",
              "    .colab-df-convert {\n",
              "      background-color: #E8F0FE;\n",
              "      border: none;\n",
              "      border-radius: 50%;\n",
              "      cursor: pointer;\n",
              "      display: none;\n",
              "      fill: #1967D2;\n",
              "      height: 32px;\n",
              "      padding: 0 0 0 0;\n",
              "      width: 32px;\n",
              "    }\n",
              "\n",
              "    .colab-df-convert:hover {\n",
              "      background-color: #E2EBFA;\n",
              "      box-shadow: 0px 1px 2px rgba(60, 64, 67, 0.3), 0px 1px 3px 1px rgba(60, 64, 67, 0.15);\n",
              "      fill: #174EA6;\n",
              "    }\n",
              "\n",
              "    [theme=dark] .colab-df-convert {\n",
              "      background-color: #3B4455;\n",
              "      fill: #D2E3FC;\n",
              "    }\n",
              "\n",
              "    [theme=dark] .colab-df-convert:hover {\n",
              "      background-color: #434B5C;\n",
              "      box-shadow: 0px 1px 3px 1px rgba(0, 0, 0, 0.15);\n",
              "      filter: drop-shadow(0px 1px 2px rgba(0, 0, 0, 0.3));\n",
              "      fill: #FFFFFF;\n",
              "    }\n",
              "  </style>\n",
              "\n",
              "      <script>\n",
              "        const buttonEl =\n",
              "          document.querySelector('#df-b50fd549-1c9f-437a-b1ab-0c7464c956d4 button.colab-df-convert');\n",
              "        buttonEl.style.display =\n",
              "          google.colab.kernel.accessAllowed ? 'block' : 'none';\n",
              "\n",
              "        async function convertToInteractive(key) {\n",
              "          const element = document.querySelector('#df-b50fd549-1c9f-437a-b1ab-0c7464c956d4');\n",
              "          const dataTable =\n",
              "            await google.colab.kernel.invokeFunction('convertToInteractive',\n",
              "                                                     [key], {});\n",
              "          if (!dataTable) return;\n",
              "\n",
              "          const docLinkHtml = 'Like what you see? Visit the ' +\n",
              "            '<a target=\"_blank\" href=https://colab.research.google.com/notebooks/data_table.ipynb>data table notebook</a>'\n",
              "            + ' to learn more about interactive tables.';\n",
              "          element.innerHTML = '';\n",
              "          dataTable['output_type'] = 'display_data';\n",
              "          await google.colab.output.renderOutput(dataTable, element);\n",
              "          const docLink = document.createElement('div');\n",
              "          docLink.innerHTML = docLinkHtml;\n",
              "          element.appendChild(docLink);\n",
              "        }\n",
              "      </script>\n",
              "    </div>\n",
              "  </div>\n",
              "  "
            ]
          },
          "metadata": {},
          "execution_count": 5
        }
      ]
    },
    {
      "cell_type": "markdown",
      "source": [
        "** crear sus variables 'X_train' e 'y_train'**"
      ],
      "metadata": {
        "id": "U9O_3ZssopMG"
      }
    },
    {
      "cell_type": "code",
      "source": [
        "x_train = np.array(d_norm.drop(['selling_price'], axis = 1))\n",
        "y_train = np.array(d_norm.iloc[:, 1:2].values)\n",
        "x_train\n",
        "y_train"
      ],
      "metadata": {
        "colab": {
          "base_uri": "https://localhost:8080/"
        },
        "id": "PkHaFbUvof2t",
        "outputId": "8651a855-72c8-4494-b173-9bc7feaa8e64"
      },
      "execution_count": 6,
      "outputs": [
        {
          "output_type": "execute_result",
          "data": {
            "text/plain": [
              "array([[0.042126],\n",
              "       [0.034102],\n",
              "       [0.012839],\n",
              "       ...,\n",
              "       [0.035306],\n",
              "       [0.026078],\n",
              "       [0.026078]])"
            ]
          },
          "metadata": {},
          "execution_count": 6
        }
      ]
    },
    {
      "cell_type": "markdown",
      "source": [
        "# **Parámetros w y b**"
      ],
      "metadata": {
        "id": "6-jqSWd9o1ac"
      }
    },
    {
      "cell_type": "code",
      "source": [
        "b_init = 700.00\n",
        "w_init = np.array([ 0.252525, 0.524164, 0.301242, 0.500000, 0.5, 0.424242, 0.333333, 0.5, 0.717171])\n",
        "print(f\"w_init shape: {w_init.shape}, b_init type: {type(b_init)}\")"
      ],
      "metadata": {
        "colab": {
          "base_uri": "https://localhost:8080/"
        },
        "id": "Mp0jmEmiovuA",
        "outputId": "4ef3eccd-6ed1-4086-edef-4aeae4fcc816"
      },
      "execution_count": 7,
      "outputs": [
        {
          "output_type": "stream",
          "name": "stdout",
          "text": [
            "w_init shape: (9,), b_init type: <class 'float'>\n"
          ]
        }
      ]
    },
    {
      "cell_type": "markdown",
      "source": [
        "## 1. Modelo de Regresión Lineal con múltiples variables\n",
        "La predicción del modelo con múltiples variables viene dada por el modelo lineal:\n",
        "\n",
        "$$ f_{\\mathbf{w},b}(\\mathbf{x}) =  w_0x_0 + w_1x_1 +... + w_{n-1}x_{n-1} + b \\tag{1}$$\n",
        "o en la notación vectorial:\n",
        "$$ f_{\\mathbf{w},b}(\\mathbf{x}) = \\mathbf{w} \\cdot \\mathbf{x} + b  \\tag{2} $$ \n",
        "where $\\cdot$ is a vector **dot product(producto punto)**\n",
        "\n",
        "Para demostrar el producto punto, implementaremos la predicción usando (1) y (2)."
      ],
      "metadata": {
        "id": "OJKTpz_Mo7mo"
      }
    },
    {
      "cell_type": "code",
      "source": [
        "# Predicción única elemento por elemento\n",
        "def predict_single_loop(x, w, b): \n",
        "    \"\"\"   \n",
        "    Args:\n",
        "      x (ndarray): Shape (n,) ejemplos con múltiples características\n",
        "      w (ndarray): Shape (n,) parámetro w del modelo  \n",
        "      b (scalar):  parámetro b del modelo    \n",
        "      \n",
        "    Returns:\n",
        "      p (scalar):  predicción\n",
        "    \"\"\"\n",
        "    n = x.shape[0]\n",
        "    p = 0\n",
        "    for i in range(n):\n",
        "        p_i = x[i] * w[i]\n",
        "        p = p + p_i\n",
        "    p = p + b\n",
        "    return p"
      ],
      "metadata": {
        "id": "vrus0YVBo3jr"
      },
      "execution_count": 8,
      "outputs": []
    },
    {
      "cell_type": "code",
      "source": [
        "def predict(x, w, b): \n",
        "    \"\"\"   \n",
        "    Args:\n",
        "      x (ndarray): Shape (n,) ejemplos con múltiples características\n",
        "      w (ndarray): Shape (n,) parámetro w del modelo  \n",
        "      b (scalar):  parámetro b del modelo    \n",
        "      \n",
        "    Returns:\n",
        "      p (scalar):  predicción\n",
        "    \"\"\"\n",
        "    p = np.dot(x, w) + b     \n",
        "    return p "
      ],
      "metadata": {
        "id": "pdN6HONLo_cx"
      },
      "execution_count": 9,
      "outputs": []
    },
    {
      "cell_type": "markdown",
      "source": [
        "## 2. Función Costo\n",
        "\n",
        "La ecuación para la función costo de múltiples variables $J(\\mathbf{w},b)$ is:\n",
        "$$J(\\mathbf{w},b) = \\frac{1}{2m} \\sum\\limits_{i = 0}^{m-1} (f_{\\mathbf{w},b}(\\mathbf{x}^{(i)}) - y^{(i)})^2 \\tag{3}$$ \n",
        "Donde:\n",
        "$$ f_{\\mathbf{w},b}(\\mathbf{x}^{(i)}) = \\mathbf{w} \\cdot \\mathbf{x}^{(i)} + b  \\tag{4} $$ \n",
        "\n"
      ],
      "metadata": {
        "id": "FK-4UQarpEnK"
      }
    },
    {
      "cell_type": "markdown",
      "source": [
        "Para hallar la funcion costo "
      ],
      "metadata": {
        "id": "sFMBIodgpGEO"
      }
    },
    {
      "cell_type": "code",
      "source": [
        "def compute_cost(X, y, w, b): \n",
        "    \"\"\"\n",
        "    compute cost\n",
        "    Args:\n",
        "      X (ndarray (m,n)): Data, m ejemplos con n características\n",
        "      y (ndarray (m,)) : valores objetivo\n",
        "      w (ndarray (n,)) : parámetros w del modelo\n",
        "      b (scalar)       : parámetro b del modelo\n",
        "      \n",
        "    Returns:\n",
        "      cost (scalar): costo\n",
        "    \"\"\"\n",
        "    m = X.shape[0]\n",
        "    cost = 0.0\n",
        "    for i in range(m):                                \n",
        "        f_wb_i = np.dot(X[i], w) + b           #(n,)(n,) = scalar\n",
        "        cost = cost + (f_wb_i - y[i])**2       #scalar\n",
        "    cost = cost / (2 * m)                      #scalar    \n",
        "    return cost"
      ],
      "metadata": {
        "id": "pHSH70uNpBhw"
      },
      "execution_count": 10,
      "outputs": []
    },
    {
      "cell_type": "code",
      "source": [
        "cost = compute_cost(x_train, y_train, w_init, b_init) #Con un minimo de $100.00\n",
        "print(f'Costo óptimo w : {cost}')"
      ],
      "metadata": {
        "colab": {
          "base_uri": "https://localhost:8080/"
        },
        "id": "pvwWV8fZpNGe",
        "outputId": "7eade9b7-1a5a-490c-e793-dfd8a6e95252"
      },
      "execution_count": 11,
      "outputs": [
        {
          "output_type": "stream",
          "name": "stdout",
          "text": [
            "Costo óptimo w : [246031.236248]\n"
          ]
        }
      ]
    },
    {
      "cell_type": "markdown",
      "source": [
        "## 3. Gradiente Descendiente con múltiples variables\n",
        "\n",
        "$$\\begin{align*} \\text{repeat}&\\text{ until convergence:} \\; \\lbrace \\newline\\;\n",
        "& w_j = w_j -  \\alpha \\frac{\\partial J(\\mathbf{w},b)}{\\partial w_j} \\tag{5}  \\; & \\text{for j = 0..n-1}\\newline\n",
        "&b\\ \\ = b -  \\alpha \\frac{\\partial J(\\mathbf{w},b)}{\\partial b}  \\newline \\rbrace\n",
        "\\end{align*}$$\n",
        "\n",
        "donde, n es el número de características, parámetros $w_j$,  $b$, son actualizados simultáneamente simultaneously  \n",
        "\n",
        "$$\n",
        "\\begin{align}\n",
        "\\frac{\\partial J(\\mathbf{w},b)}{\\partial w_j}  &= \\frac{1}{m} \\sum\\limits_{i = 0}^{m-1} (f_{\\mathbf{w},b}(\\mathbf{x}^{(i)}) - y^{(i)})x_{j}^{(i)} \\tag{6}  \\\\\n",
        "\\frac{\\partial J(\\mathbf{w},b)}{\\partial b}  &= \\frac{1}{m} \\sum\\limits_{i = 0}^{m-1} (f_{\\mathbf{w},b}(\\mathbf{x}^{(i)}) - y^{(i)}) \\tag{7}\n",
        "\\end{align}\n",
        "$$\n",
        "* m es el número de ejemplos de entrenamiento en el conjunto de datos.\n",
        "\n",
        "    \n",
        "*  $f_{\\mathbf{w},b}(\\mathbf{x}^{(i)})$ es la predicción del modelo,  $y^{(i)}$ es la variable objetivo"
      ],
      "metadata": {
        "id": "xi6L94swpTuq"
      }
    },
    {
      "cell_type": "markdown",
      "source": [
        "## 3.1 Compute Gradient with Multiple Variables\n",
        "Se implementará la ecuación (6) y (7).\n",
        "- bucle externo sobre todos los m ejemplos. \n",
        "    - $\\frac{\\partial J(\\mathbf{w},b)}{\\partial b}$ para el ejemplo se puede calcular directamente y acumular\n",
        "    - en un segundo bucle sobre todas las n características:\n",
        "        - $\\frac{\\partial J(\\mathbf{w},b)}{\\partial w_j}$ es calculado para cada $w_j$."
      ],
      "metadata": {
        "id": "Yx__teFQpY6m"
      }
    },
    {
      "cell_type": "code",
      "source": [
        "def compute_gradient(X, y, w, b): \n",
        "    \"\"\"\n",
        "    Calcula la gradiente para la regresión lineal\n",
        "    Args:\n",
        "      X (ndarray (m,n)): Data, m ejemplos con n características\n",
        "      y (ndarray (m,)) : valores objetivo\n",
        "      w (ndarray (n,)) : parámetros w del modelo \n",
        "      b (scalar)       : parámetro b del modelo\n",
        "      \n",
        "    Returns:\n",
        "      dj_dw (ndarray (n,)): La gradiende del costo del parámetro w. \n",
        "      dj_db (scalar):       La gradiende del costo del parámetro b. \n",
        "    \"\"\"\n",
        "    m,n = X.shape           \n",
        "    dj_dw = np.zeros((n,))\n",
        "    dj_db = 0.\n",
        "\n",
        "    for i in range(m):                             \n",
        "        err = (np.dot(X[i], w) + b) - y[i]   \n",
        "        for j in range(n):                         \n",
        "            dj_dw[j] = dj_dw[j] + err * X[i, j]    \n",
        "        dj_db = dj_db + err                        \n",
        "    dj_dw = dj_dw / m                                \n",
        "    dj_db = dj_db / m     \n",
        "\n",
        "    return dj_db, dj_dw"
      ],
      "metadata": {
        "id": "YJZiDY1wpO7A"
      },
      "execution_count": 12,
      "outputs": []
    },
    {
      "cell_type": "code",
      "source": [
        "tmp_dj_db, tmp_dj_dw = compute_gradient(x_train, y_train, w_init, b_init)\n",
        "print(f'dj_db at initial w,b: {tmp_dj_db}')\n",
        "print(f'dj_dw at initial w,b: \\n {tmp_dj_dw}')"
      ],
      "metadata": {
        "colab": {
          "base_uri": "https://localhost:8080/"
        },
        "id": "YVWyP-vAqETj",
        "outputId": "57c9fe86-730e-4688-cb4a-d2f589dad111"
      },
      "execution_count": 13,
      "outputs": [
        {
          "output_type": "stream",
          "name": "stdout",
          "text": [
            "dj_db at initial w,b: [701.471606]\n",
            "dj_dw at initial w,b: \n",
            " [584.00458   20.749817 133.759245  68.966081 610.90494  441.821152\n",
            " 324.328578 196.476755 199.074133]\n"
          ]
        }
      ]
    },
    {
      "cell_type": "markdown",
      "source": [
        "## 3.2 Gradiente Descenndiente con múltiples variables\n",
        "Se impementarará la ecuación (5) de arriba."
      ],
      "metadata": {
        "id": "VUVUZ1jXrwhR"
      }
    },
    {
      "cell_type": "code",
      "source": [
        "def gradient_descent(X, y, w_in, b_in, cost_function, gradient_function, alpha, num_iters): \n",
        "    \"\"\"\n",
        "   Realiza descenso de gradiente por lotes para aprender w y b. Actualiza w y b tomando num_iters pasos de gradiente con tasa de aprendizaje alfa\n",
        "    \n",
        "    Args:\n",
        "      X (ndarray (m,n))   : Data, m ejemplos con n características\n",
        "      y (ndarray (m,))    : valores objetivo\n",
        "      w_in (ndarray (n,)) : valor inicial del parámetro w\n",
        "      b_in (scalar)       : valor inicial del parámetro b\n",
        "      cost_function       : función costo\n",
        "      gradient_function   : función que calcula la gradiente\n",
        "      alpha (float)       : tasa de aprendizaje alfa\n",
        "      num_iters (int)     : número de iteraciones para retornar la gradiente por descenso\n",
        "      \n",
        "    Returns:\n",
        "      w (ndarray (n,)) : valor final del parámetro w\n",
        "      b (scalar)       : valor final del parámetro b\n",
        "      \"\"\"\n",
        "\n",
        "    J_history = []\n",
        "    w = copy.deepcopy(w_in)  \n",
        "    b = b_in\n",
        "    \n",
        "    for i in range(num_iters):\n",
        "\n",
        "        dj_db,dj_dw = gradient_function(X, y, w, b)  \n",
        "        w = w - alpha * dj_dw               \n",
        "        b = b - alpha * dj_db               \n",
        "      \n",
        "        \n",
        "        if i<100000:      \n",
        "            J_history.append( cost_function(X, y, w, b))\n",
        "\n",
        "        if i% math.ceil(num_iters / 10) == 0:\n",
        "            print(f\"Iteration {i}: Cost {J_history[-1]}   \")\n",
        "        \n",
        "    return w, b, J_history "
      ],
      "metadata": {
        "id": "WhWxv2OXqGXW"
      },
      "execution_count": 14,
      "outputs": []
    },
    {
      "cell_type": "markdown",
      "source": [
        "# 4. Probando el modelo"
      ],
      "metadata": {
        "id": "S90bNMOQr3gG"
      }
    },
    {
      "cell_type": "code",
      "source": [
        "# Probando el modelo\n",
        "# inicializando parámetros\n",
        "initial_w = np.zeros_like(w_init)\n",
        "initial_b = 0.\n",
        "# configuración de parámetros para el algoritmo de la gradiente por descenso\n",
        "iterations = 1000\n",
        "alpha = 0.4\n",
        "# ejecutar el algoritmo de la gradiente descendiente\n",
        "w_final, b_final, J_hist = gradient_descent(x_train, y_train, initial_w, initial_b,\n",
        "                                                    compute_cost, compute_gradient, \n",
        "                                                    alpha, iterations)\n",
        "print(f\"b,w found by gradient descent: {b_final},{w_final} \")\n",
        "m,_ = x_train.shape\n",
        "for i in range(m):\n",
        "    if i% math.ceil(m / 10) == 0:\n",
        "        print(f\"prediction: {np.dot(x_train[i], w_final) + b_final}, target value: {y_train[i]}\")\n",
        "\n",
        "#Este proceso demora por que pasa por cada iteracion  probando el modelo y la cantidad de datos que tiene el data set"
      ],
      "metadata": {
        "colab": {
          "base_uri": "https://localhost:8080/"
        },
        "id": "Y5vXUg7pr0is",
        "outputId": "008456f1-df8f-49ac-832f-aefc5d679d90"
      },
      "execution_count": 16,
      "outputs": [
        {
          "output_type": "stream",
          "name": "stdout",
          "text": [
            "Iteration 0: Cost [0.003454]   \n",
            "Iteration 100: Cost [0.001625]   \n",
            "Iteration 200: Cost [0.001571]   \n",
            "Iteration 300: Cost [0.001535]   \n",
            "Iteration 400: Cost [0.00151]   \n",
            "Iteration 500: Cost [0.001492]   \n",
            "Iteration 600: Cost [0.001479]   \n",
            "Iteration 700: Cost [0.001469]   \n",
            "Iteration 800: Cost [0.001461]   \n",
            "Iteration 900: Cost [0.001456]   \n",
            "b,w found by gradient descent: [-0.048203],[ 1.987054e-01 -7.012751e-02  2.466477e-02  2.345052e-02 -9.197759e-02\n",
            " -1.275090e-04  1.164985e-02  1.924224e-01 -1.416499e-01] \n",
            "prediction: [0.041487], target value: [0.042126]\n",
            "prediction: [0.037294], target value: [0.060181]\n",
            "prediction: [0.047589], target value: [0.052157]\n",
            "prediction: [0.041793], target value: [0.03009]\n",
            "prediction: [0.062497], target value: [0.050652]\n",
            "prediction: [0.075426], target value: [0.052157]\n",
            "prediction: [0.068862], target value: [0.065196]\n",
            "prediction: [0.060848], target value: [0.097292]\n",
            "prediction: [0.032979], target value: [0.025075]\n",
            "prediction: [0.024159], target value: [0.024574]\n"
          ]
        }
      ]
    },
    {
      "cell_type": "markdown",
      "source": [
        "# 4.1. Predicción"
      ],
      "metadata": {
        "id": "t2BNKhumuCRC"
      }
    },
    {
      "cell_type": "code",
      "source": [
        "d_prueba = [[0.8, 0.2 , 0.3, 0, 1, 0.75, 0.5, 0.3, 0.25]]\n",
        "prueba = predict(d_prueba, w_final, b_final)\n",
        "prueba"
      ],
      "metadata": {
        "colab": {
          "base_uri": "https://localhost:8080/"
        },
        "id": "CuiCIjiYr6k-",
        "outputId": "f37e5db6-f63e-4d01-f569-1df31d08e197"
      },
      "execution_count": 17,
      "outputs": [
        {
          "output_type": "execute_result",
          "data": {
            "text/plain": [
              "array([0.040201])"
            ]
          },
          "metadata": {},
          "execution_count": 17
        }
      ]
    },
    {
      "cell_type": "markdown",
      "source": [
        "# 5. Ploteando"
      ],
      "metadata": {
        "id": "3TXDnDCZuWyR"
      }
    },
    {
      "cell_type": "code",
      "source": [
        "fig, (ax1, ax2) = plt.subplots(1, 2, constrained_layout=True, figsize=(12, 4))\n",
        "ax1.plot(J_hist)\n",
        "ax2.plot(100 + np.arange(len(J_hist[100:])), J_hist[100:])\n",
        "ax1.set_title(\"Cost vs. iteration\");  ax2.set_title(\"Cost vs. iteration (tail)\")\n",
        "ax1.set_ylabel('Cost')             ;  ax2.set_ylabel('Cost') \n",
        "ax1.set_xlabel('iteration step')   ;  ax2.set_xlabel('iteration step') \n",
        "plt.show()"
      ],
      "metadata": {
        "colab": {
          "base_uri": "https://localhost:8080/",
          "height": 313
        },
        "id": "WFZHAQeauX7C",
        "outputId": "40b44643-c1db-4fe2-849a-9430c1c0256e"
      },
      "execution_count": 18,
      "outputs": [
        {
          "output_type": "display_data",
          "data": {
            "text/plain": [
              "<Figure size 864x288 with 2 Axes>"
            ],
            "image/png": "[encoded data removed]"
          },
          "metadata": {
            "needs_background": "light"
          }
        }
      ]
    },
    {
      "cell_type": "markdown",
      "source": [
        "def Prec(x, w, b):\n",
        "    precio_real = predict(x, w_final, b_final) * max(dat['selling_price'])\n",
        "    return precio_real"
      ],
      "metadata": {
        "id": "Iy5nOoE0ub_s"
      }
    },
    {
      "cell_type": "markdown",
      "source": [
        "# 6. Probando el modelo"
      ],
      "metadata": {
        "id": "WrAnR70KwE-d"
      }
    },
    {
      "cell_type": "code",
      "source": [
        "reg1 = LinearRegression().fit(x_train, y_train)\n",
        "reg1.score(x_train, y_train)"
      ],
      "metadata": {
        "colab": {
          "base_uri": "https://localhost:8080/"
        },
        "id": "4SMftc1jwFTa",
        "outputId": "09b156a4-fb40-4a1f-e26d-69e80541ff43"
      },
      "execution_count": 19,
      "outputs": [
        {
          "output_type": "execute_result",
          "data": {
            "text/plain": [
              "0.5643322314262881"
            ]
          },
          "metadata": {},
          "execution_count": 19
        }
      ]
    },
    {
      "cell_type": "code",
      "source": [
        "r = reg1.predict(d_prueba)\n",
        "print (r * predict(d_prueba, w_final, b_final))"
      ],
      "metadata": {
        "colab": {
          "base_uri": "https://localhost:8080/"
        },
        "id": "xJ56xwi8wHD4",
        "outputId": "e21d65cc-3276-4eee-a9c6-0e7488ac76d3"
      },
      "execution_count": 23,
      "outputs": [
        {
          "output_type": "stream",
          "name": "stdout",
          "text": [
            "[[-4.206258e-05]]\n"
          ]
        }
      ]
    },
    {
      "cell_type": "code",
      "source": [
        "plt.figure(figsize = (5,4))\n",
        "dat.plot(\"year\", \"selling_price\", kind=\"scatter\",marker = '^', label = 'Año / Precio de venta')\n",
        "plt.show()"
      ],
      "metadata": {
        "colab": {
          "base_uri": "https://localhost:8080/",
          "height": 307
        },
        "id": "J3for3WUwIZK",
        "outputId": "5c8c3c10-2d78-48a4-ce35-a89a4ab3aa24"
      },
      "execution_count": 24,
      "outputs": [
        {
          "output_type": "display_data",
          "data": {
            "text/plain": [
              "<Figure size 360x288 with 0 Axes>"
            ]
          },
          "metadata": {}
        },
        {
          "output_type": "display_data",
          "data": {
            "text/plain": [
              "<Figure size 432x288 with 1 Axes>"
            ],
            "image/png": "[encoded data removed]"
          },
          "metadata": {
            "needs_background": "light"
          }
        }
      ]
    },
    {
      "cell_type": "code",
      "source": [
        ""
      ],
      "metadata": {
        "id": "_TTgE4qcwVV_"
      },
      "execution_count": null,
      "outputs": []
    }
  ]
}